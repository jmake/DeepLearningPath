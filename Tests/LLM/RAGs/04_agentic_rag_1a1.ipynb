{
 "cells": [
  {
   "cell_type": "code",
   "execution_count": 1,
   "id": "bbc1698f-c390-437c-8641-ce64b9a9321f",
   "metadata": {},
   "outputs": [
    {
     "name": "stdout",
     "output_type": "stream",
     "text": [
      "Python 3.12.6\n"
     ]
    }
   ],
   "source": [
    "%%bash \n",
    "\n",
    "python.exe --version \n",
    "\n",
    "ls -la \n",
    "\n",
    "pwd\n",
    "\n",
    "ollama.exe list \n"
   ]
  },
  {
   "cell_type": "code",
   "execution_count": 2,
   "id": "6f0ab7ff-5d82-4ab3-937b-e76a9ff530fb",
   "metadata": {},
   "outputs": [
    {
     "name": "stdout",
     "output_type": "stream",
     "text": [
      "CPU times: total: 0 ns\n",
      "Wall time: 0 ns\n"
     ]
    }
   ],
   "source": [
    "%%time \n",
    "## Created '6709' chunks from 'Data/Blender43Manual.pdf' at './ChromaDB'\n",
    "#!python.exe ingest_pdfs.py "
   ]
  },
  {
   "cell_type": "code",
   "execution_count": null,
   "id": "8922921c-f652-4a50-af0d-ad80fec88a9f",
   "metadata": {},
   "outputs": [],
   "source": []
  },
  {
   "cell_type": "code",
   "execution_count": 3,
   "id": "95f8f80e-21e4-41e6-ac21-5b60518b9901",
   "metadata": {},
   "outputs": [
    {
     "name": "stderr",
     "output_type": "stream",
     "text": [
      "D:\\z2025_1\\AI\\RAGs\\Env4\\Lib\\site-packages\\tqdm\\auto.py:21: TqdmWarning: IProgress not found. Please update jupyter and ipywidgets. See https://ipywidgets.readthedocs.io/en/stable/user_install.html\n",
      "  from .autonotebook import tqdm as notebook_tqdm\n"
     ]
    },
    {
     "name": "stdout",
     "output_type": "stream",
     "text": [
      "{'max_tokens': 5000, 'last_input_token_count': None, 'last_output_token_count': None, 'model_id': 'Qwen/Qwen2.5-Coder-32B-Instruct', 'provider': None}\n",
      "Hello! I'm just a computer program, so I don't have feelings, but I'm here and ready to help you. How can I assist you today?\n",
      "CPU times: total: 1.23 s\n",
      "Wall time: 1.8 s\n"
     ]
    }
   ],
   "source": [
    "%%time \n",
    "## python.exe -m pip install langchain_ollama\n",
    "import smolagents\n",
    "from langchain_ollama.llms import OllamaLLM\n",
    "\n",
    "hf_token = \"\"\n",
    "model_id = \"Qwen/Qwen2.5-Coder-32B-Instruct\"\n",
    "\n",
    "engine = smolagents.HfApiModel(model_id=model_id, token=hf_token, max_tokens=5000)\n",
    "print( engine.to_dict() )\n",
    "\n",
    "messages = [{\"role\": \"user\", \"content\": [{\"type\": \"text\", \"text\": \"Hello, how are you?\"}]}]\n",
    "\n",
    "response = engine(messages, stop_sequences=[\"END\"])\n",
    "print(response.content)\n"
   ]
  },
  {
   "cell_type": "code",
   "execution_count": null,
   "id": "7f601319-840a-49e3-8739-c8fd0e728124",
   "metadata": {},
   "outputs": [],
   "source": []
  },
  {
   "cell_type": "code",
   "execution_count": 4,
   "id": "02604f91-43d4-4e06-b553-cbb11847577e",
   "metadata": {},
   "outputs": [
    {
     "data": {
      "text/html": [
       "<pre style=\"white-space:pre;overflow-x:auto;line-height:normal;font-family:Menlo,'DejaVu Sans Mono',consolas,'Courier New',monospace\">This agent has step_callbacks: they will be ignored by this method. <span style=\"color: #008080; text-decoration-color: #008080; font-weight: bold\">1</span>\n",
       "</pre>\n"
      ],
      "text/plain": [
       "This agent has step_callbacks: they will be ignored by this method. \u001b[1;36m1\u001b[0m\n"
      ]
     },
     "metadata": {},
     "output_type": "display_data"
    },
    {
     "name": "stdout",
     "output_type": "stream",
     "text": [
      "['tools', 'model', 'managed_agents', 'prompt_templates', 'max_steps', 'verbosity_level', 'grammar', 'planning_interval', 'name', 'description', 'requirements', 'authorized_imports', 'executor_type', 'executor_kwargs', 'max_print_outputs_length']\n",
      "CPU times: total: 15.6 ms\n",
      "Wall time: 26.1 ms\n"
     ]
    }
   ],
   "source": [
    "%%time\n",
    "import smolagents\n",
    "\n",
    "# Create the reasoner for better RAG\n",
    "reasoner = smolagents.CodeAgent(tools=[], model=engine, add_base_tools=False, max_steps=2)\n",
    "print( list(reasoner.to_dict().keys()) )\n"
   ]
  },
  {
   "cell_type": "code",
   "execution_count": null,
   "id": "91a52b03-3a80-4236-967d-b7ded32c360a",
   "metadata": {},
   "outputs": [],
   "source": []
  },
  {
   "cell_type": "code",
   "execution_count": null,
   "id": "de0c76b0-f49c-4176-bd44-6451bbf1d0ad",
   "metadata": {},
   "outputs": [],
   "source": []
  },
  {
   "cell_type": "code",
   "execution_count": 5,
   "id": "24d66fdb-0fbb-4203-8c80-038067454202",
   "metadata": {},
   "outputs": [
    {
     "name": "stdout",
     "output_type": "stream",
     "text": [
      "CPU times: total: 33.1 s\n",
      "Wall time: 33.3 s\n"
     ]
    }
   ],
   "source": [
    "%%time \n",
    "from langchain.text_splitter import RecursiveCharacterTextSplitter\n",
    "from langchain_community.document_loaders import DirectoryLoader, PyPDFLoader\n",
    "\n",
    "def load_and_process_pdfs(data_dir: str):\n",
    "    \"\"\"Load PDFs from directory and split into chunks.\"\"\"\n",
    "    loader = DirectoryLoader(\n",
    "        data_dir,\n",
    "        glob=\"**/*.pdf\",\n",
    "        loader_cls=PyPDFLoader\n",
    "    )\n",
    "    documents = loader.load()\n",
    "    \n",
    "    # Split documents into chunks\n",
    "    text_splitter = RecursiveCharacterTextSplitter(\n",
    "        chunk_size=1000,\n",
    "        chunk_overlap=200,\n",
    "        length_function=len,\n",
    "    )\n",
    "    chunks = text_splitter.split_documents(documents)\n",
    "    return chunks\n",
    "\n",
    "data_dir = \"Data\"\n",
    "chunks = load_and_process_pdfs(data_dir)\n"
   ]
  },
  {
   "cell_type": "code",
   "execution_count": null,
   "id": "40672735-1676-4942-860c-0aa2d78cddf9",
   "metadata": {},
   "outputs": [],
   "source": []
  },
  {
   "cell_type": "code",
   "execution_count": 6,
   "id": "dd64eaaa-bc20-4351-b4c8-9244a7261cfc",
   "metadata": {},
   "outputs": [
    {
     "name": "stdout",
     "output_type": "stream",
     "text": [
      "<__main__.RetrieverTool object at 0x000001F6F1EFF3B0>\n"
     ]
    }
   ],
   "source": [
    "## python.exe -m pip install rank_bm25\n",
    "import smolagents\n",
    "from langchain_community.retrievers import BM25Retriever\n",
    "\n",
    "class RetrieverTool(smolagents.Tool):\n",
    "    name = \"retriever\"\n",
    "    description = \"Uses semantic search to retrieve the parts of transformers documentation that could be most relevant to answer your query.\"\n",
    "    inputs = {\n",
    "        \"query\": {\n",
    "            \"type\": \"string\",\n",
    "            \"description\": \"The query to perform. This should be semantically close to your target documents. Use the affirmative form rather than a question.\",\n",
    "        }\n",
    "    }\n",
    "    output_type = \"string\"\n",
    "\n",
    "    def __init__(self, docs, **kwargs):\n",
    "        super().__init__(**kwargs)\n",
    "        self.retriever = BM25Retriever.from_documents(\n",
    "            docs, k=10\n",
    "        )\n",
    "\n",
    "    def forward(self, query: str) -> str:\n",
    "        assert isinstance(query, str), \"Your search query must be a string\"\n",
    "\n",
    "        docs = self.retriever.invoke(\n",
    "            query,\n",
    "        )\n",
    "        return \"\\nRetrieved documents:\\n\" + \"\".join(\n",
    "            [\n",
    "                f\"\\n\\n===== Document {str(i)} =====\\n\" + doc.page_content\n",
    "                for i, doc in enumerate(docs)\n",
    "            ]\n",
    "        )\n",
    "\n",
    "retriever_tool = RetrieverTool(chunks)\n",
    "print( retriever_tool )\n"
   ]
  },
  {
   "cell_type": "code",
   "execution_count": 7,
   "id": "18f629c3-c29f-4672-a25a-b96bd49d9524",
   "metadata": {},
   "outputs": [
    {
     "name": "stdout",
     "output_type": "stream",
     "text": [
      "<smolagents.agents.CodeAgent object at 0x000001F6F1EFF410>\n",
      "CPU times: total: 15.6 ms\n",
      "Wall time: 9.55 ms\n"
     ]
    }
   ],
   "source": [
    "%%time\n",
    "import smolagents\n",
    "\n",
    "agent = smolagents.CodeAgent(tools=[retriever_tool], model=engine, max_steps=2, verbosity_level=0)\n",
    "print( agent )"
   ]
  },
  {
   "cell_type": "code",
   "execution_count": 8,
   "id": "5aa95cf8-14ba-427d-bd84-c50148bae802",
   "metadata": {},
   "outputs": [
    {
     "data": {
      "text/html": [
       "<pre style=\"white-space:pre;overflow-x:auto;line-height:normal;font-family:Menlo,'DejaVu Sans Mono',consolas,'Courier New',monospace\"><span style=\"color: #800000; text-decoration-color: #800000; font-weight: bold\">Reached max steps.</span>\n",
       "</pre>\n"
      ],
      "text/plain": [
       "\u001b[1;31mReached max steps.\u001b[0m\n"
      ]
     },
     "metadata": {},
     "output_type": "display_data"
    },
    {
     "name": "stdout",
     "output_type": "stream",
     "text": [
      "Final output: 'It seems the previous search query did not retrieve the specific information we need regarding the Principled BSDF inputs. Let me look up the documentation directly to provide you with the correct details.\n",
      "\n",
      "The Principled BSDF shader in Blender is used to create realistic materials by handling various lighting and surface properties. Here are the inputs for the Principled BSDF shader:\n",
      "\n",
      "1. **Base Color** - The base color of the surface.\n",
      "2. **Subsurface** - The amount of light that diffuses beneath the surface.\n",
      "3. **Subsurface Radius** - The radius over which the light diffuses. It can be defined in terms of RGB to provide different diffusion rates for different wavelengths.\n",
      "4. **Subsurface Color** - The color of the subsurface scattering.\n",
      "5. **Metallic** - Determines the amount of metallicity in the material, where 1 is fully metallic and 0 is fully non-metallic.\n",
      "6. **Specular** - Controls the reflectivity of the material.\n",
      "7. **Specular Tint** - Adjusts the color of the highlights to be more toward the base color (higher values) or stay towards the white tint (lower values).\n",
      "8. **Roughness** - Controls how rough the surface is. Low values produce sharp reflections, while high values produce blurry reflections.\n",
      "9. **Anisotropic** - Controls the anisotropy (directional increase in roughness) of the material.\n",
      "10. **Anisotropic Rotation** - Controls the direction of anisotropy.\n",
      "11. **Sheen** - Adds soft, cloth-like highlights to the material.\n",
      "12. **Sheen Tint** - Controls the color of the sheen.\n",
      "13. **Clearcoat** - Adds an extra layer of reflective coating to the material.\n",
      "14. **Clearcoat Roughness** - Controls the roughness of the clearcoat layer.\n",
      "15. **IOR** - Index of Refraction, which controls the amount of light that is refracted without entering the surface.\n",
      "16. **Transmission** - Controls how much light passes through the surface.\n",
      "17. **Transmission Roughness** - Controls the roughness of the transmission.\n",
      "18. **Emission** - The color and intensity of light emitted from the surface.\n",
      "19. **Alpha** - Defines the transparency of the material.\n",
      "20. **Normal** - Overrides the surface normals of the geometry for the directionality of reflections, refractions, etc.\n",
      "21. **Clearcoat Normal** - Overrides the surface normals for the clearcoat layer.\n",
      "22. **Tangent** - Defines the tangent direction for anisotropic materials.\n",
      "\n",
      "These inputs allow for very detailed and realistic material creation in Blender. Each input parameter can be adjusted, and some can also be connected to texture images for more complex effects.' \n",
      "CPU times: total: 31.2 ms\n",
      "Wall time: 39.1 s\n"
     ]
    }
   ],
   "source": [
    "%%time \n",
    "query = \"List the Principled BSDF Inputs\"  \n",
    "agent_output = agent.run(query)\n",
    "print(f\"Final output: '{agent_output}' \") ## 22"
   ]
  },
  {
   "cell_type": "code",
   "execution_count": 9,
   "id": "a211b3fb-8ecf-409e-b62d-1dac92708658",
   "metadata": {},
   "outputs": [
    {
     "data": {
      "text/html": [
       "<pre style=\"white-space:pre;overflow-x:auto;line-height:normal;font-family:Menlo,'DejaVu Sans Mono',consolas,'Courier New',monospace\"><span style=\"color: #800000; text-decoration-color: #800000; font-weight: bold\">Reached max steps.</span>\n",
       "</pre>\n"
      ],
      "text/plain": [
       "\u001b[1;31mReached max steps.\u001b[0m\n"
      ]
     },
     "metadata": {},
     "output_type": "display_data"
    },
    {
     "name": "stdout",
     "output_type": "stream",
     "text": [
      "Final output: 'BSDF stands for Bidirectional Scattering Distribution Function. It is a fundamental concept in computer graphics and physics that describes how light is reflected and refracted at a surface. In the context of rendering and shading, a BSDF defines the probability of light being scattered in a specific direction given its incoming direction. This allows for a more realistic simulation of light interactions with surfaces, considering both reflection and transmission of light.' \n",
      "CPU times: total: 15.6 ms\n",
      "Wall time: 21.2 s\n"
     ]
    }
   ],
   "source": [
    "%%time \n",
    "query = \"Waht is the meaning of BSDF?\"\n",
    "agent_output = agent.run(query)\n",
    "print(f\"Final output: '{agent_output}' \")  ## Bidirectional Scattering Distribution Function"
   ]
  },
  {
   "cell_type": "code",
   "execution_count": null,
   "id": "a2c76858-5183-4f3a-b128-d9128c25a23b",
   "metadata": {},
   "outputs": [],
   "source": []
  }
 ],
 "metadata": {
  "kernelspec": {
   "display_name": "Python 3 (ipykernel)",
   "language": "python",
   "name": "python3"
  },
  "language_info": {
   "codemirror_mode": {
    "name": "ipython",
    "version": 3
   },
   "file_extension": ".py",
   "mimetype": "text/x-python",
   "name": "python",
   "nbconvert_exporter": "python",
   "pygments_lexer": "ipython3",
   "version": "3.12.6"
  }
 },
 "nbformat": 4,
 "nbformat_minor": 5
}
