{
 "cells": [
  {
   "cell_type": "code",
   "execution_count": 1,
   "id": "bbc1698f-c390-437c-8641-ce64b9a9321f",
   "metadata": {},
   "outputs": [
    {
     "name": "stdout",
     "output_type": "stream",
     "text": [
      "Fri Mar 21 13:47:59 EDT 2025\n",
      "total 40\n",
      "drwxrwxrwx 1 jmake jmake   512 Mar 21 13:47 .\n",
      "drwxrwxrwx 1 jmake jmake   512 Mar 20 20:38 ..\n",
      "drwxrwxrwx 1 jmake jmake   512 Mar 21 13:16 .ipynb_checkpoints\n",
      "drwxrwxrwx 1 jmake jmake   512 Mar 20 20:56 ChromaDB\n",
      "drwxrwxrwx 1 jmake jmake   512 Mar 20 20:45 Data\n",
      "-rwxrwxrwx 1 jmake jmake 14409 Mar 21 13:47 agentic_rag_1a1.ipynb\n",
      "-rwxrwxrwx 1 jmake jmake     4 Mar 20 20:57 app_4.py\n",
      "-rwxrwxrwx 1 jmake jmake 20055 Mar 21 13:31 executed_notebook.ipynb\n",
      "-rwxrwxrwx 1 jmake jmake  2187 Mar 20 20:40 ingest_pdfs.py\n",
      "/mnt/d/z2025_1/AI/RAGs/Test4\n",
      "Python 3.12.6\n"
     ]
    }
   ],
   "source": [
    "%%bash \n",
    "date \n",
    "\n",
    "ls -la \n",
    "\n",
    "pwd\n",
    "\n",
    "python.exe --version \n",
    "\n",
    "ollama.exe list \n"
   ]
  },
  {
   "cell_type": "code",
   "execution_count": 2,
   "id": "6f0ab7ff-5d82-4ab3-937b-e76a9ff530fb",
   "metadata": {},
   "outputs": [
    {
     "name": "stdout",
     "output_type": "stream",
     "text": [
      "CPU times: total: 0 ns\n",
      "Wall time: 0 ns\n"
     ]
    }
   ],
   "source": [
    "%%time \n",
    "## Created '6709' chunks from 'Data/Blender43Manual.pdf' at './ChromaDB'\n",
    "#!python.exe ingest_pdfs.py "
   ]
  },
  {
   "cell_type": "code",
   "execution_count": null,
   "id": "8922921c-f652-4a50-af0d-ad80fec88a9f",
   "metadata": {},
   "outputs": [],
   "source": []
  },
  {
   "cell_type": "code",
   "execution_count": 3,
   "id": "95f8f80e-21e4-41e6-ac21-5b60518b9901",
   "metadata": {},
   "outputs": [
    {
     "name": "stderr",
     "output_type": "stream",
     "text": [
      "D:\\z2025_1\\AI\\RAGs\\Env4\\Lib\\site-packages\\tqdm\\auto.py:21: TqdmWarning: IProgress not found. Please update jupyter and ipywidgets. See https://ipywidgets.readthedocs.io/en/stable/user_install.html\n",
      "  from .autonotebook import tqdm as notebook_tqdm\n"
     ]
    },
    {
     "name": "stdout",
     "output_type": "stream",
     "text": [
      "{'max_tokens': 5000, 'last_input_token_count': None, 'last_output_token_count': None, 'model_id': 'Qwen/Qwen2.5-Coder-32B-Instruct', 'provider': None}\n",
      "Hello! I'm just a computer program, so I don't have feelings, but I'm here and ready to help you. How can I assist you today?\n",
      "CPU times: total: 1.75 s\n",
      "Wall time: 2.3 s\n"
     ]
    }
   ],
   "source": [
    "%%time \n",
    "## python.exe -m pip install langchain_ollama\n",
    "import smolagents\n",
    "from langchain_ollama.llms import OllamaLLM\n",
    "\n",
    "hf_token = \"\"\n",
    "model_id = \"Qwen/Qwen2.5-Coder-32B-Instruct\"\n",
    "\n",
    "engine = smolagents.HfApiModel(model_id=model_id, token=hf_token, max_tokens=5000)\n",
    "print( engine.to_dict() )\n",
    "\n",
    "messages = [{\"role\": \"user\", \"content\": [{\"type\": \"text\", \"text\": \"Hello, how are you?\"}]}]\n",
    "\n",
    "response = engine(messages, stop_sequences=[\"END\"])\n",
    "print(response.content)\n"
   ]
  },
  {
   "cell_type": "code",
   "execution_count": null,
   "id": "7f601319-840a-49e3-8739-c8fd0e728124",
   "metadata": {},
   "outputs": [],
   "source": []
  },
  {
   "cell_type": "code",
   "execution_count": 4,
   "id": "02604f91-43d4-4e06-b553-cbb11847577e",
   "metadata": {},
   "outputs": [
    {
     "data": {
      "text/html": [
       "<pre style=\"white-space:pre;overflow-x:auto;line-height:normal;font-family:Menlo,'DejaVu Sans Mono',consolas,'Courier New',monospace\">This agent has step_callbacks: they will be ignored by this method. <span style=\"color: #008080; text-decoration-color: #008080; font-weight: bold\">1</span>\n",
       "</pre>\n"
      ],
      "text/plain": [
       "This agent has step_callbacks: they will be ignored by this method. \u001b[1;36m1\u001b[0m\n"
      ]
     },
     "metadata": {},
     "output_type": "display_data"
    },
    {
     "name": "stdout",
     "output_type": "stream",
     "text": [
      "['tools', 'model', 'managed_agents', 'prompt_templates', 'max_steps', 'verbosity_level', 'grammar', 'planning_interval', 'name', 'description', 'requirements', 'authorized_imports', 'executor_type', 'executor_kwargs', 'max_print_outputs_length']\n",
      "CPU times: total: 93.8 ms\n",
      "Wall time: 91 ms\n"
     ]
    }
   ],
   "source": [
    "%%time\n",
    "import smolagents\n",
    "\n",
    "# Create the reasoner for better RAG\n",
    "reasoner = smolagents.CodeAgent(tools=[], model=engine, add_base_tools=False, max_steps=2)\n",
    "print( list(reasoner.to_dict().keys()) )\n"
   ]
  },
  {
   "cell_type": "code",
   "execution_count": null,
   "id": "91a52b03-3a80-4236-967d-b7ded32c360a",
   "metadata": {},
   "outputs": [],
   "source": []
  },
  {
   "cell_type": "code",
   "execution_count": null,
   "id": "de0c76b0-f49c-4176-bd44-6451bbf1d0ad",
   "metadata": {},
   "outputs": [],
   "source": []
  },
  {
   "cell_type": "code",
   "execution_count": 5,
   "id": "24d66fdb-0fbb-4203-8c80-038067454202",
   "metadata": {},
   "outputs": [
    {
     "name": "stdout",
     "output_type": "stream",
     "text": [
      "CPU times: total: 45.2 s\n",
      "Wall time: 45.6 s\n"
     ]
    }
   ],
   "source": [
    "%%time \n",
    "from langchain.text_splitter import RecursiveCharacterTextSplitter\n",
    "from langchain_community.document_loaders import DirectoryLoader, PyPDFLoader\n",
    "\n",
    "def load_and_process_pdfs(data_dir: str):\n",
    "    \"\"\"Load PDFs from directory and split into chunks.\"\"\"\n",
    "    loader = DirectoryLoader(\n",
    "        data_dir,\n",
    "        glob=\"**/*.pdf\",\n",
    "        loader_cls=PyPDFLoader\n",
    "    )\n",
    "    documents = loader.load()\n",
    "    \n",
    "    # Split documents into chunks\n",
    "    text_splitter = RecursiveCharacterTextSplitter(\n",
    "        chunk_size=1000,\n",
    "        chunk_overlap=200,\n",
    "        length_function=len,\n",
    "    )\n",
    "    chunks = text_splitter.split_documents(documents)\n",
    "    return chunks\n",
    "\n",
    "data_dir = \"Data\"\n",
    "chunks = load_and_process_pdfs(data_dir)\n"
   ]
  },
  {
   "cell_type": "code",
   "execution_count": null,
   "id": "40672735-1676-4942-860c-0aa2d78cddf9",
   "metadata": {},
   "outputs": [],
   "source": []
  },
  {
   "cell_type": "code",
   "execution_count": 6,
   "id": "dd64eaaa-bc20-4351-b4c8-9244a7261cfc",
   "metadata": {},
   "outputs": [
    {
     "name": "stdout",
     "output_type": "stream",
     "text": [
      "<__main__.RetrieverTool object at 0x000001C93345ABA0>\n"
     ]
    }
   ],
   "source": [
    "## python.exe -m pip install rank_bm25\n",
    "import smolagents\n",
    "from langchain_community.retrievers import BM25Retriever\n",
    "\n",
    "class RetrieverTool(smolagents.Tool):\n",
    "    name = \"retriever\"\n",
    "    description = \"Uses semantic search to retrieve the parts of transformers documentation that could be most relevant to answer your query.\"\n",
    "    inputs = {\n",
    "        \"query\": {\n",
    "            \"type\": \"string\",\n",
    "            \"description\": \"The query to perform. This should be semantically close to your target documents. Use the affirmative form rather than a question.\",\n",
    "        }\n",
    "    }\n",
    "    output_type = \"string\"\n",
    "\n",
    "    def __init__(self, docs, **kwargs):\n",
    "        super().__init__(**kwargs)\n",
    "        self.retriever = BM25Retriever.from_documents(\n",
    "            docs, k=10\n",
    "        )\n",
    "\n",
    "    def forward(self, query: str) -> str:\n",
    "        assert isinstance(query, str), \"Your search query must be a string\"\n",
    "\n",
    "        docs = self.retriever.invoke(\n",
    "            query,\n",
    "        )\n",
    "        return \"\\nRetrieved documents:\\n\" + \"\".join(\n",
    "            [\n",
    "                f\"\\n\\n===== Document {str(i)} =====\\n\" + doc.page_content\n",
    "                for i, doc in enumerate(docs)\n",
    "            ]\n",
    "        )\n",
    "\n",
    "retriever_tool = RetrieverTool(chunks)\n",
    "print( retriever_tool )\n"
   ]
  },
  {
   "cell_type": "code",
   "execution_count": 7,
   "id": "18f629c3-c29f-4672-a25a-b96bd49d9524",
   "metadata": {},
   "outputs": [
    {
     "name": "stdout",
     "output_type": "stream",
     "text": [
      "<smolagents.agents.CodeAgent object at 0x000001C9258DAA20>\n",
      "CPU times: total: 31.2 ms\n",
      "Wall time: 15.8 ms\n"
     ]
    }
   ],
   "source": [
    "%%time\n",
    "import smolagents\n",
    "\n",
    "agent = smolagents.CodeAgent(tools=[retriever_tool], model=engine, max_steps=2, verbosity_level=0)\n",
    "print( agent )"
   ]
  },
  {
   "cell_type": "code",
   "execution_count": 8,
   "id": "5aa95cf8-14ba-427d-bd84-c50148bae802",
   "metadata": {},
   "outputs": [
    {
     "name": "stdout",
     "output_type": "stream",
     "text": [
      "Final output: '['Base Color', 'Subsurface', 'Subsurface Radius', 'Subsurface Color', 'Metallic', 'Specular', 'Specular Tint', 'Roughness', 'Anisotropic', 'Anisotropic Rotation', 'Sheen', 'Sheen Tint', 'Clearcoat', 'Clearcoat Roughness', 'IOR', 'Transmission', 'Transmission Roughness', 'Normal', 'Clearcoat Normal', 'Tangent']' \n",
      "CPU times: total: 2.02 s\n",
      "Wall time: 21.1 s\n"
     ]
    }
   ],
   "source": [
    "%%time \n",
    "query = \"List the Principled BSDF Inputs\"  \n",
    "agent_output = agent.run(query)\n",
    "print(f\"Final output: '{agent_output}' \") ## 22"
   ]
  },
  {
   "cell_type": "code",
   "execution_count": 9,
   "id": "a211b3fb-8ecf-409e-b62d-1dac92708658",
   "metadata": {},
   "outputs": [
    {
     "name": "stdout",
     "output_type": "stream",
     "text": [
      "Final output: 'BSDF stands for Bidirectional Scattering Distribution Function and describes how light interacts with surface materials in rendering.' \n",
      "CPU times: total: 31.2 ms\n",
      "Wall time: 14.5 s\n"
     ]
    }
   ],
   "source": [
    "%%time \n",
    "query = \"Waht is the meaning of BSDF?\"\n",
    "agent_output = agent.run(query)\n",
    "print(f\"Final output: '{agent_output}' \")  ## Bidirectional Scattering Distribution Function"
   ]
  },
  {
   "cell_type": "code",
   "execution_count": null,
   "id": "a2c76858-5183-4f3a-b128-d9128c25a23b",
   "metadata": {},
   "outputs": [],
   "source": []
  },
  {
   "cell_type": "code",
   "execution_count": 10,
   "id": "37284201-9d8e-496f-a7d8-6972f556d080",
   "metadata": {},
   "outputs": [
    {
     "name": "stdout",
     "output_type": "stream",
     "text": [
      "Fri Mar 21 13:49:23 EDT 2025\n"
     ]
    }
   ],
   "source": [
    "%%bash \n",
    "## jupyter-nbconvert.exe --to notebook --execute .\\agentic_rag_1a1.ipynb --output executed_notebook.ipynb\n",
    "date "
   ]
  }
 ],
 "metadata": {
  "kernelspec": {
   "display_name": "Python 3 (ipykernel)",
   "language": "python",
   "name": "python3"
  },
  "language_info": {
   "codemirror_mode": {
    "name": "ipython",
    "version": 3
   },
   "file_extension": ".py",
   "mimetype": "text/x-python",
   "name": "python",
   "nbconvert_exporter": "python",
   "pygments_lexer": "ipython3",
   "version": "3.12.6"
  }
 },
 "nbformat": 4,
 "nbformat_minor": 5
}
